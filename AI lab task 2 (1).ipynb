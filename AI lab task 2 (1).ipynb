{
 "cells": [
  {
   "cell_type": "code",
   "execution_count": 1,
   "id": "4f3a258b-6f45-4882-b84f-e067c76cb8d6",
   "metadata": {},
   "outputs": [
    {
     "name": "stdout",
     "output_type": "stream",
     "text": [
      "Nearest Neighbors (Distance, Class): [(1.0, 'B'), (3.605551275463989, 'B'), (4.123105625617661, 'A')]\n",
      "Predicted Classification: B\n"
     ]
    }
   ],
   "source": [
    "import numpy as np \n",
    "from collections import Counter \n",
    "\n",
    "data = [ \n",
    "    (1, 2, 'A'), \n",
    "    (2, 3, 'A'), \n",
    "    (3, 6, 'B'), \n",
    "    (6, 5, 'B') \n",
    "] \n",
    "\n",
    "query_instance = (3, 7) \n",
    "\n",
    "distances = [] \n",
    "for x1, x2, label in data: \n",
    "\n",
    "    distance = np.sqrt((x1 - query_instance[0]) ** 2 + (x2 - query_instance[1]) ** 2) \n",
    "    distances.append((distance, label)) \n",
    "\n",
    "distances.sort(key=lambda x: x[0]) \n",
    "k = 3 \n",
    "nearest_neighbors = distances[:k] \n",
    "neighbor_classes = [label for _, label in nearest_neighbors] \n",
    "prediction = Counter(neighbor_classes).most_common(1)[0][0] \n",
    "print(\"Nearest Neighbors (Distance, Class):\", nearest_neighbors) \n",
    "print(\"Predicted Classification:\", prediction) \n",
    "\n",
    " "
   ]
  },
  {
   "cell_type": "code",
   "execution_count": null,
   "id": "d2568726-8317-44c2-9190-ba87b8f95d42",
   "metadata": {},
   "outputs": [],
   "source": []
  }
 ],
 "metadata": {
  "kernelspec": {
   "display_name": "Python 3 (ipykernel)",
   "language": "python",
   "name": "python3"
  },
  "language_info": {
   "codemirror_mode": {
    "name": "ipython",
    "version": 3
   },
   "file_extension": ".py",
   "mimetype": "text/x-python",
   "name": "python",
   "nbconvert_exporter": "python",
   "pygments_lexer": "ipython3",
   "version": "3.12.7"
  }
 },
 "nbformat": 4,
 "nbformat_minor": 5
}
